{
 "cells": [
  {
   "cell_type": "markdown",
   "metadata": {},
   "source": [
    "# In this project, we will perform basic text preprocessing using the TensorFlow tokenizer. The resultant text data will serve as the input for training a deep learning model that includes an embedding layer in its input.\n"
   ]
  },
  {
   "cell_type": "code",
   "execution_count": null,
   "metadata": {},
   "outputs": [],
   "source": [
    "import pandas as pd\n",
    "import tensorflow as tf"
   ]
  },
  {
   "cell_type": "markdown",
   "metadata": {},
   "source": [
    "## Read the dataset"
   ]
  },
  {
   "cell_type": "code",
   "execution_count": 479,
   "metadata": {},
   "outputs": [],
   "source": [
    "data = pd.read_csv('sarcasm_detection.csv')"
   ]
  },
  {
   "cell_type": "code",
   "execution_count": 480,
   "metadata": {},
   "outputs": [
    {
     "data": {
      "text/html": [
       "<div>\n",
       "<style scoped>\n",
       "    .dataframe tbody tr th:only-of-type {\n",
       "        vertical-align: middle;\n",
       "    }\n",
       "\n",
       "    .dataframe tbody tr th {\n",
       "        vertical-align: top;\n",
       "    }\n",
       "\n",
       "    .dataframe thead th {\n",
       "        text-align: right;\n",
       "    }\n",
       "</style>\n",
       "<table border=\"1\" class=\"dataframe\">\n",
       "  <thead>\n",
       "    <tr style=\"text-align: right;\">\n",
       "      <th></th>\n",
       "      <th>ID</th>\n",
       "      <th>comment</th>\n",
       "      <th>date</th>\n",
       "      <th>down</th>\n",
       "      <th>parent_comment</th>\n",
       "      <th>score</th>\n",
       "      <th>top</th>\n",
       "      <th>topic</th>\n",
       "      <th>user</th>\n",
       "      <th>label</th>\n",
       "    </tr>\n",
       "  </thead>\n",
       "  <tbody>\n",
       "    <tr>\n",
       "      <th>0</th>\n",
       "      <td>uid_590555</td>\n",
       "      <td>Well, let's be honest here, they don't actuall...</td>\n",
       "      <td>2015-04</td>\n",
       "      <td>0</td>\n",
       "      <td>They should shut the fuck up and let the commu...</td>\n",
       "      <td>2</td>\n",
       "      <td>2</td>\n",
       "      <td>starcitizen</td>\n",
       "      <td>Combat_Wombatz</td>\n",
       "      <td>0</td>\n",
       "    </tr>\n",
       "    <tr>\n",
       "      <th>1</th>\n",
       "      <td>uid_671762</td>\n",
       "      <td>Well, I didn't need evidence to believe in com...</td>\n",
       "      <td>2016-12</td>\n",
       "      <td>-1</td>\n",
       "      <td>You need evidence to kill people? I thought we...</td>\n",
       "      <td>6</td>\n",
       "      <td>-1</td>\n",
       "      <td>EnoughCommieSpam</td>\n",
       "      <td>starkadd</td>\n",
       "      <td>1</td>\n",
       "    </tr>\n",
       "    <tr>\n",
       "      <th>2</th>\n",
       "      <td>uid_519689</td>\n",
       "      <td>Who does an \"official promo\" in 360p?</td>\n",
       "      <td>2013-11</td>\n",
       "      <td>0</td>\n",
       "      <td>2014 BMW S1000R: Official Promo</td>\n",
       "      <td>3</td>\n",
       "      <td>3</td>\n",
       "      <td>motorcycles</td>\n",
       "      <td>phybere</td>\n",
       "      <td>0</td>\n",
       "    </tr>\n",
       "    <tr>\n",
       "      <th>3</th>\n",
       "      <td>uid_788362</td>\n",
       "      <td>Grotto koth was the best</td>\n",
       "      <td>2015-09</td>\n",
       "      <td>0</td>\n",
       "      <td>Not really that memorable lol if you want memo...</td>\n",
       "      <td>2</td>\n",
       "      <td>2</td>\n",
       "      <td>hcfactions</td>\n",
       "      <td>m0xyMC</td>\n",
       "      <td>1</td>\n",
       "    </tr>\n",
       "    <tr>\n",
       "      <th>4</th>\n",
       "      <td>uid_299252</td>\n",
       "      <td>Neal's back baby</td>\n",
       "      <td>2015-11</td>\n",
       "      <td>0</td>\n",
       "      <td>James Neal hit on Zach Parise</td>\n",
       "      <td>-5</td>\n",
       "      <td>-5</td>\n",
       "      <td>hockey</td>\n",
       "      <td>Somuch101</td>\n",
       "      <td>1</td>\n",
       "    </tr>\n",
       "    <tr>\n",
       "      <th>5</th>\n",
       "      <td>uid_29449</td>\n",
       "      <td>Orange is the New Black House of Cards Hemlock...</td>\n",
       "      <td>2014-02</td>\n",
       "      <td>0</td>\n",
       "      <td>What internet-only shows do you watch that are...</td>\n",
       "      <td>2</td>\n",
       "      <td>2</td>\n",
       "      <td>cordcutters</td>\n",
       "      <td>zgggg</td>\n",
       "      <td>0</td>\n",
       "    </tr>\n",
       "    <tr>\n",
       "      <th>6</th>\n",
       "      <td>uid_528005</td>\n",
       "      <td>Pff everybody knows science is sexist.</td>\n",
       "      <td>2015-08</td>\n",
       "      <td>0</td>\n",
       "      <td>Interesting... it's almost like there is a phy...</td>\n",
       "      <td>8</td>\n",
       "      <td>8</td>\n",
       "      <td>news</td>\n",
       "      <td>needconfirmation</td>\n",
       "      <td>1</td>\n",
       "    </tr>\n",
       "    <tr>\n",
       "      <th>7</th>\n",
       "      <td>uid_850110</td>\n",
       "      <td>because he called out r/mma's golden boy sage ...</td>\n",
       "      <td>2016-12</td>\n",
       "      <td>-1</td>\n",
       "      <td>How come Mickey Gall did not get more credit f...</td>\n",
       "      <td>1</td>\n",
       "      <td>-1</td>\n",
       "      <td>MMA</td>\n",
       "      <td>young_Handsome_MF</td>\n",
       "      <td>1</td>\n",
       "    </tr>\n",
       "    <tr>\n",
       "      <th>8</th>\n",
       "      <td>uid_840172</td>\n",
       "      <td>What if he's not into dudes though?</td>\n",
       "      <td>2015-12</td>\n",
       "      <td>0</td>\n",
       "      <td>stop making memes and take your fat asses to t...</td>\n",
       "      <td>1</td>\n",
       "      <td>1</td>\n",
       "      <td>AdviceAnimals</td>\n",
       "      <td>Kauzrae</td>\n",
       "      <td>1</td>\n",
       "    </tr>\n",
       "    <tr>\n",
       "      <th>9</th>\n",
       "      <td>uid_288113</td>\n",
       "      <td>probably should've followed your original comm...</td>\n",
       "      <td>2015-09</td>\n",
       "      <td>0</td>\n",
       "      <td>Lol I've been downvoted. What is sarcasm</td>\n",
       "      <td>11</td>\n",
       "      <td>11</td>\n",
       "      <td>trees</td>\n",
       "      <td>joshj2398</td>\n",
       "      <td>1</td>\n",
       "    </tr>\n",
       "  </tbody>\n",
       "</table>\n",
       "</div>"
      ],
      "text/plain": [
       "           ID                                            comment     date  \\\n",
       "0  uid_590555  Well, let's be honest here, they don't actuall...  2015-04   \n",
       "1  uid_671762  Well, I didn't need evidence to believe in com...  2016-12   \n",
       "2  uid_519689              Who does an \"official promo\" in 360p?  2013-11   \n",
       "3  uid_788362                           Grotto koth was the best  2015-09   \n",
       "4  uid_299252                                   Neal's back baby  2015-11   \n",
       "5   uid_29449  Orange is the New Black House of Cards Hemlock...  2014-02   \n",
       "6  uid_528005             Pff everybody knows science is sexist.  2015-08   \n",
       "7  uid_850110  because he called out r/mma's golden boy sage ...  2016-12   \n",
       "8  uid_840172                What if he's not into dudes though?  2015-12   \n",
       "9  uid_288113  probably should've followed your original comm...  2015-09   \n",
       "\n",
       "   down                                     parent_comment  score  top  \\\n",
       "0     0  They should shut the fuck up and let the commu...      2    2   \n",
       "1    -1  You need evidence to kill people? I thought we...      6   -1   \n",
       "2     0                    2014 BMW S1000R: Official Promo      3    3   \n",
       "3     0  Not really that memorable lol if you want memo...      2    2   \n",
       "4     0                      James Neal hit on Zach Parise     -5   -5   \n",
       "5     0  What internet-only shows do you watch that are...      2    2   \n",
       "6     0  Interesting... it's almost like there is a phy...      8    8   \n",
       "7    -1  How come Mickey Gall did not get more credit f...      1   -1   \n",
       "8     0  stop making memes and take your fat asses to t...      1    1   \n",
       "9     0           Lol I've been downvoted. What is sarcasm     11   11   \n",
       "\n",
       "              topic               user  label  \n",
       "0       starcitizen     Combat_Wombatz      0  \n",
       "1  EnoughCommieSpam           starkadd      1  \n",
       "2       motorcycles            phybere      0  \n",
       "3        hcfactions             m0xyMC      1  \n",
       "4            hockey          Somuch101      1  \n",
       "5       cordcutters              zgggg      0  \n",
       "6              news   needconfirmation      1  \n",
       "7               MMA  young_Handsome_MF      1  \n",
       "8     AdviceAnimals            Kauzrae      1  \n",
       "9             trees          joshj2398      1  "
      ]
     },
     "execution_count": 480,
     "metadata": {},
     "output_type": "execute_result"
    }
   ],
   "source": [
    "data.head(10)"
   ]
  },
  {
   "cell_type": "markdown",
   "metadata": {},
   "source": [
    "## Create a copy of the dataset"
   ]
  },
  {
   "cell_type": "code",
   "execution_count": 481,
   "metadata": {},
   "outputs": [],
   "source": [
    "df = data.copy()"
   ]
  },
  {
   "cell_type": "markdown",
   "metadata": {},
   "source": [
    "### Remove unwanted columns"
   ]
  },
  {
   "cell_type": "code",
   "execution_count": 482,
   "metadata": {},
   "outputs": [],
   "source": [
    "df.drop(['ID', 'date', 'down', 'score', 'top', 'user'], axis=1, inplace=True)"
   ]
  },
  {
   "cell_type": "code",
   "execution_count": 483,
   "metadata": {},
   "outputs": [
    {
     "data": {
      "text/html": [
       "<div>\n",
       "<style scoped>\n",
       "    .dataframe tbody tr th:only-of-type {\n",
       "        vertical-align: middle;\n",
       "    }\n",
       "\n",
       "    .dataframe tbody tr th {\n",
       "        vertical-align: top;\n",
       "    }\n",
       "\n",
       "    .dataframe thead th {\n",
       "        text-align: right;\n",
       "    }\n",
       "</style>\n",
       "<table border=\"1\" class=\"dataframe\">\n",
       "  <thead>\n",
       "    <tr style=\"text-align: right;\">\n",
       "      <th></th>\n",
       "      <th>comment</th>\n",
       "      <th>parent_comment</th>\n",
       "      <th>topic</th>\n",
       "      <th>label</th>\n",
       "    </tr>\n",
       "  </thead>\n",
       "  <tbody>\n",
       "    <tr>\n",
       "      <th>0</th>\n",
       "      <td>Well, let's be honest here, they don't actuall...</td>\n",
       "      <td>They should shut the fuck up and let the commu...</td>\n",
       "      <td>starcitizen</td>\n",
       "      <td>0</td>\n",
       "    </tr>\n",
       "    <tr>\n",
       "      <th>1</th>\n",
       "      <td>Well, I didn't need evidence to believe in com...</td>\n",
       "      <td>You need evidence to kill people? I thought we...</td>\n",
       "      <td>EnoughCommieSpam</td>\n",
       "      <td>1</td>\n",
       "    </tr>\n",
       "    <tr>\n",
       "      <th>2</th>\n",
       "      <td>Who does an \"official promo\" in 360p?</td>\n",
       "      <td>2014 BMW S1000R: Official Promo</td>\n",
       "      <td>motorcycles</td>\n",
       "      <td>0</td>\n",
       "    </tr>\n",
       "    <tr>\n",
       "      <th>3</th>\n",
       "      <td>Grotto koth was the best</td>\n",
       "      <td>Not really that memorable lol if you want memo...</td>\n",
       "      <td>hcfactions</td>\n",
       "      <td>1</td>\n",
       "    </tr>\n",
       "    <tr>\n",
       "      <th>4</th>\n",
       "      <td>Neal's back baby</td>\n",
       "      <td>James Neal hit on Zach Parise</td>\n",
       "      <td>hockey</td>\n",
       "      <td>1</td>\n",
       "    </tr>\n",
       "    <tr>\n",
       "      <th>5</th>\n",
       "      <td>Orange is the New Black House of Cards Hemlock...</td>\n",
       "      <td>What internet-only shows do you watch that are...</td>\n",
       "      <td>cordcutters</td>\n",
       "      <td>0</td>\n",
       "    </tr>\n",
       "    <tr>\n",
       "      <th>6</th>\n",
       "      <td>Pff everybody knows science is sexist.</td>\n",
       "      <td>Interesting... it's almost like there is a phy...</td>\n",
       "      <td>news</td>\n",
       "      <td>1</td>\n",
       "    </tr>\n",
       "    <tr>\n",
       "      <th>7</th>\n",
       "      <td>because he called out r/mma's golden boy sage ...</td>\n",
       "      <td>How come Mickey Gall did not get more credit f...</td>\n",
       "      <td>MMA</td>\n",
       "      <td>1</td>\n",
       "    </tr>\n",
       "    <tr>\n",
       "      <th>8</th>\n",
       "      <td>What if he's not into dudes though?</td>\n",
       "      <td>stop making memes and take your fat asses to t...</td>\n",
       "      <td>AdviceAnimals</td>\n",
       "      <td>1</td>\n",
       "    </tr>\n",
       "    <tr>\n",
       "      <th>9</th>\n",
       "      <td>probably should've followed your original comm...</td>\n",
       "      <td>Lol I've been downvoted. What is sarcasm</td>\n",
       "      <td>trees</td>\n",
       "      <td>1</td>\n",
       "    </tr>\n",
       "  </tbody>\n",
       "</table>\n",
       "</div>"
      ],
      "text/plain": [
       "                                             comment  \\\n",
       "0  Well, let's be honest here, they don't actuall...   \n",
       "1  Well, I didn't need evidence to believe in com...   \n",
       "2              Who does an \"official promo\" in 360p?   \n",
       "3                           Grotto koth was the best   \n",
       "4                                   Neal's back baby   \n",
       "5  Orange is the New Black House of Cards Hemlock...   \n",
       "6             Pff everybody knows science is sexist.   \n",
       "7  because he called out r/mma's golden boy sage ...   \n",
       "8                What if he's not into dudes though?   \n",
       "9  probably should've followed your original comm...   \n",
       "\n",
       "                                      parent_comment             topic  label  \n",
       "0  They should shut the fuck up and let the commu...       starcitizen      0  \n",
       "1  You need evidence to kill people? I thought we...  EnoughCommieSpam      1  \n",
       "2                    2014 BMW S1000R: Official Promo       motorcycles      0  \n",
       "3  Not really that memorable lol if you want memo...        hcfactions      1  \n",
       "4                      James Neal hit on Zach Parise            hockey      1  \n",
       "5  What internet-only shows do you watch that are...       cordcutters      0  \n",
       "6  Interesting... it's almost like there is a phy...              news      1  \n",
       "7  How come Mickey Gall did not get more credit f...               MMA      1  \n",
       "8  stop making memes and take your fat asses to t...     AdviceAnimals      1  \n",
       "9           Lol I've been downvoted. What is sarcasm             trees      1  "
      ]
     },
     "execution_count": 483,
     "metadata": {},
     "output_type": "execute_result"
    }
   ],
   "source": [
    "df.head(10)"
   ]
  },
  {
   "cell_type": "code",
   "execution_count": 484,
   "metadata": {},
   "outputs": [
    {
     "data": {
      "text/plain": [
       "1    7527\n",
       "0    7473\n",
       "Name: label, dtype: int64"
      ]
     },
     "execution_count": 484,
     "metadata": {},
     "output_type": "execute_result"
    }
   ],
   "source": [
    "df.label.value_counts()"
   ]
  },
  {
   "cell_type": "markdown",
   "metadata": {},
   "source": [
    "##  Using keras tokenizer for breaking down the documents to create a vocabulary"
   ]
  },
  {
   "cell_type": "code",
   "execution_count": 485,
   "metadata": {},
   "outputs": [],
   "source": [
    "from tensorflow.keras.preprocessing.text import Tokenizer\n",
    "from tensorflow.keras.preprocessing.sequence import pad_sequences"
   ]
  },
  {
   "cell_type": "code",
   "execution_count": 486,
   "metadata": {},
   "outputs": [],
   "source": [
    "tokenizer = Tokenizer(oov_token=\"OOV\")\n",
    "tokenizer.fit_on_texts(df.comment)\n",
    "word_index = tokenizer.word_index"
   ]
  },
  {
   "cell_type": "code",
   "execution_count": 487,
   "metadata": {},
   "outputs": [
    {
     "data": {
      "text/plain": [
       "17786"
      ]
     },
     "execution_count": 487,
     "metadata": {},
     "output_type": "execute_result"
    }
   ],
   "source": [
    "len(word_index)"
   ]
  },
  {
   "cell_type": "markdown",
   "metadata": {},
   "source": [
    "##  Pad the sequences"
   ]
  },
  {
   "cell_type": "code",
   "execution_count": 488,
   "metadata": {},
   "outputs": [],
   "source": [
    "sequences = tokenizer.texts_to_sequences(df.comment)\n",
    "padded = pad_sequences(sequences, padding='post')"
   ]
  },
  {
   "cell_type": "code",
   "execution_count": 489,
   "metadata": {},
   "outputs": [
    {
     "data": {
      "text/plain": [
       "(15000, 134)"
      ]
     },
     "execution_count": 489,
     "metadata": {},
     "output_type": "execute_result"
    }
   ],
   "source": [
    "padded.shape"
   ]
  },
  {
   "cell_type": "code",
   "execution_count": 490,
   "metadata": {},
   "outputs": [
    {
     "name": "stdout",
     "output_type": "stream",
     "text": [
      "[  49  384   16 1369  118   18   38  138  516    3   47   94 7584   21\n",
      "   18   19    3  794   64   82  218  130    0    0    0    0    0    0\n",
      "    0    0    0    0    0    0    0    0    0    0    0    0    0    0\n",
      "    0    0    0    0    0    0    0    0    0    0    0    0    0    0\n",
      "    0    0    0    0    0    0    0    0    0    0    0    0    0    0\n",
      "    0    0    0    0    0    0    0    0    0    0    0    0    0    0\n",
      "    0    0    0    0    0    0    0    0    0    0    0    0    0    0\n",
      "    0    0    0    0    0    0    0    0    0    0    0    0    0    0\n",
      "    0    0    0    0    0    0    0    0    0    0    0    0    0    0\n",
      "    0    0    0    0    0    0    0    0]\n"
     ]
    }
   ],
   "source": [
    "print(padded[0])"
   ]
  },
  {
   "cell_type": "code",
   "execution_count": 491,
   "metadata": {},
   "outputs": [],
   "source": [
    "vocab_size = 10000\n",
    "embedding_dim = 32\n",
    "max_length = 120\n",
    "trunc_type='post'\n",
    "padding_type='post'\n",
    "oov_tok = \"<OOV>\"\n",
    "# training_size = 20000"
   ]
  },
  {
   "cell_type": "markdown",
   "metadata": {},
   "source": [
    "##  Test train split:"
   ]
  },
  {
   "cell_type": "code",
   "execution_count": 492,
   "metadata": {},
   "outputs": [],
   "source": [
    "from sklearn.model_selection import train_test_split"
   ]
  },
  {
   "cell_type": "code",
   "execution_count": 493,
   "metadata": {},
   "outputs": [],
   "source": [
    "X = df.drop(columns=['label', 'parent_comment', 'topic'])\n",
    "y = df.label"
   ]
  },
  {
   "cell_type": "code",
   "execution_count": 494,
   "metadata": {},
   "outputs": [
    {
     "data": {
      "text/plain": [
       "0        0\n",
       "1        1\n",
       "2        0\n",
       "3        1\n",
       "4        1\n",
       "        ..\n",
       "14995    0\n",
       "14996    0\n",
       "14997    0\n",
       "14998    1\n",
       "14999    1\n",
       "Name: label, Length: 15000, dtype: int64"
      ]
     },
     "execution_count": 494,
     "metadata": {},
     "output_type": "execute_result"
    }
   ],
   "source": [
    "y"
   ]
  },
  {
   "cell_type": "code",
   "execution_count": 495,
   "metadata": {},
   "outputs": [],
   "source": [
    "train_x, test_x, train_y, test_y = train_test_split(X, y, test_size=0.2)"
   ]
  },
  {
   "cell_type": "code",
   "execution_count": 496,
   "metadata": {},
   "outputs": [
    {
     "data": {
      "text/plain": [
       "((12000, 1), (3000, 1), (12000,), (3000,))"
      ]
     },
     "execution_count": 496,
     "metadata": {},
     "output_type": "execute_result"
    }
   ],
   "source": [
    "train_x.shape, test_x.shape, train_y.shape, test_y.shape"
   ]
  },
  {
   "cell_type": "code",
   "execution_count": 497,
   "metadata": {},
   "outputs": [
    {
     "data": {
      "text/plain": [
       "(12000,)"
      ]
     },
     "execution_count": 497,
     "metadata": {},
     "output_type": "execute_result"
    }
   ],
   "source": [
    "train_x.comment.shape"
   ]
  },
  {
   "cell_type": "code",
   "execution_count": 498,
   "metadata": {},
   "outputs": [],
   "source": [
    "training_sentences = train_x.comment\n",
    "testing_sentences = test_x.comment"
   ]
  },
  {
   "cell_type": "code",
   "execution_count": 499,
   "metadata": {},
   "outputs": [],
   "source": [
    "training_labels = train_y\n",
    "testing_labels = test_y"
   ]
  },
  {
   "cell_type": "markdown",
   "metadata": {},
   "source": [
    "## Create vocabulary and pad sequences"
   ]
  },
  {
   "cell_type": "code",
   "execution_count": 500,
   "metadata": {},
   "outputs": [],
   "source": [
    "tokenizer = Tokenizer(num_words=vocab_size, oov_token=oov_tok)\n",
    "tokenizer.fit_on_texts(training_sentences)\n",
    "\n",
    "word_index = tokenizer.word_index\n",
    "\n",
    "training_sequences = tokenizer.texts_to_sequences(training_sentences)\n",
    "training_padded = pad_sequences(training_sequences, maxlen=max_length, padding=padding_type, truncating=trunc_type)\n",
    "\n",
    "testing_sequences = tokenizer.texts_to_sequences(testing_sentences)\n",
    "testing_padded = pad_sequences(testing_sequences, maxlen=max_length, padding=padding_type, truncating=trunc_type)"
   ]
  },
  {
   "cell_type": "code",
   "execution_count": 501,
   "metadata": {},
   "outputs": [],
   "source": [
    "import numpy as np\n",
    "training_padded = np.array(training_padded)\n",
    "training_labels =np.expand_dims(training_labels, axis=1)\n",
    "testing_padded = np.array(testing_padded)\n",
    "testing_labels = np.expand_dims(testing_labels, axis=1)"
   ]
  },
  {
   "cell_type": "code",
   "execution_count": 502,
   "metadata": {},
   "outputs": [
    {
     "data": {
      "text/plain": [
       "(12000, 1)"
      ]
     },
     "execution_count": 502,
     "metadata": {},
     "output_type": "execute_result"
    }
   ],
   "source": [
    "training_labels.shape"
   ]
  },
  {
   "cell_type": "code",
   "execution_count": 503,
   "metadata": {},
   "outputs": [
    {
     "data": {
      "text/plain": [
       "(12000, 120)"
      ]
     },
     "execution_count": 503,
     "metadata": {},
     "output_type": "execute_result"
    }
   ],
   "source": [
    "training_padded.shape"
   ]
  },
  {
   "cell_type": "code",
   "execution_count": 504,
   "metadata": {},
   "outputs": [
    {
     "data": {
      "text/plain": [
       "(3000, 1)"
      ]
     },
     "execution_count": 504,
     "metadata": {},
     "output_type": "execute_result"
    }
   ],
   "source": [
    "testing_labels.shape"
   ]
  },
  {
   "cell_type": "code",
   "execution_count": 505,
   "metadata": {},
   "outputs": [
    {
     "data": {
      "text/plain": [
       "(3000, 120)"
      ]
     },
     "execution_count": 505,
     "metadata": {},
     "output_type": "execute_result"
    }
   ],
   "source": [
    "testing_padded.shape"
   ]
  },
  {
   "cell_type": "markdown",
   "metadata": {},
   "source": [
    "## Train the model "
   ]
  },
  {
   "cell_type": "code",
   "execution_count": 506,
   "metadata": {},
   "outputs": [],
   "source": [
    "import tensorflow_addons as tfa\n",
    "\n",
    "model = tf.keras.Sequential([\n",
    "    tf.keras.layers.Embedding(vocab_size, embedding_dim, input_length=max_length),\n",
    "    tf.keras.layers.GlobalAveragePooling1D(),\n",
    "    tf.keras.layers.Dense(24, activation='relu'),\n",
    "    tf.keras.layers.Dropout(0.2),\n",
    "    tf.keras.layers.Dense(12, activation='relu'),\n",
    "    tf.keras.layers.Dense(1, activation='sigmoid')\n",
    "])\n",
    "model.compile(loss='binary_crossentropy',optimizer='adam',metrics=[tfa.metrics.F1Score(num_classes=1, average='macro')])\n",
    "# model.compile(loss='binary_crossentropy',optimizer='adam',metrics=['accuracy'])"
   ]
  },
  {
   "cell_type": "code",
   "execution_count": 507,
   "metadata": {},
   "outputs": [
    {
     "name": "stdout",
     "output_type": "stream",
     "text": [
      "Model: \"sequential_18\"\n",
      "_________________________________________________________________\n",
      " Layer (type)                Output Shape              Param #   \n",
      "=================================================================\n",
      " embedding_18 (Embedding)    (None, 120, 32)           320000    \n",
      "                                                                 \n",
      " global_average_pooling1d_18  (None, 32)               0         \n",
      "  (GlobalAveragePooling1D)                                       \n",
      "                                                                 \n",
      " dense_36 (Dense)            (None, 24)                792       \n",
      "                                                                 \n",
      " dropout (Dropout)           (None, 24)                0         \n",
      "                                                                 \n",
      " dense_37 (Dense)            (None, 12)                300       \n",
      "                                                                 \n",
      " dense_38 (Dense)            (None, 1)                 13        \n",
      "                                                                 \n",
      "=================================================================\n",
      "Total params: 321,105\n",
      "Trainable params: 321,105\n",
      "Non-trainable params: 0\n",
      "_________________________________________________________________\n"
     ]
    }
   ],
   "source": [
    "model.summary()"
   ]
  },
  {
   "cell_type": "code",
   "execution_count": 508,
   "metadata": {},
   "outputs": [
    {
     "name": "stdout",
     "output_type": "stream",
     "text": [
      "Epoch 1/30\n"
     ]
    },
    {
     "name": "stderr",
     "output_type": "stream",
     "text": [
      "2022-09-23 00:23:14.366856: I tensorflow/core/grappler/optimizers/custom_graph_optimizer_registry.cc:113] Plugin optimizer for device_type GPU is enabled.\n",
      "2022-09-23 00:23:21.567657: I tensorflow/core/grappler/optimizers/custom_graph_optimizer_registry.cc:113] Plugin optimizer for device_type GPU is enabled.\n"
     ]
    },
    {
     "name": "stdout",
     "output_type": "stream",
     "text": [
      "375/375 - 8s - loss: 0.6932 - f1_score: 0.6650 - val_loss: 0.6921 - val_f1_score: 0.6810 - 8s/epoch - 21ms/step\n",
      "Epoch 2/30\n",
      "375/375 - 6s - loss: 0.6835 - f1_score: 0.6650 - val_loss: 0.6679 - val_f1_score: 0.6810 - 6s/epoch - 17ms/step\n",
      "Epoch 3/30\n",
      "375/375 - 6s - loss: 0.6094 - f1_score: 0.6650 - val_loss: 0.6352 - val_f1_score: 0.6810 - 6s/epoch - 17ms/step\n",
      "Epoch 4/30\n",
      "375/375 - 6s - loss: 0.5295 - f1_score: 0.6650 - val_loss: 0.6528 - val_f1_score: 0.6810 - 6s/epoch - 17ms/step\n",
      "Epoch 5/30\n",
      "375/375 - 6s - loss: 0.4667 - f1_score: 0.6650 - val_loss: 0.7220 - val_f1_score: 0.6810 - 6s/epoch - 16ms/step\n",
      "Epoch 6/30\n",
      "375/375 - 6s - loss: 0.4239 - f1_score: 0.6650 - val_loss: 0.7532 - val_f1_score: 0.6810 - 6s/epoch - 16ms/step\n",
      "Epoch 7/30\n",
      "375/375 - 6s - loss: 0.3830 - f1_score: 0.6650 - val_loss: 0.7915 - val_f1_score: 0.6810 - 6s/epoch - 16ms/step\n",
      "Epoch 8/30\n",
      "375/375 - 6s - loss: 0.3635 - f1_score: 0.6651 - val_loss: 0.8305 - val_f1_score: 0.6810 - 6s/epoch - 16ms/step\n",
      "Epoch 9/30\n",
      "375/375 - 6s - loss: 0.3347 - f1_score: 0.6651 - val_loss: 0.9065 - val_f1_score: 0.6810 - 6s/epoch - 17ms/step\n",
      "Epoch 10/30\n",
      "375/375 - 6s - loss: 0.3154 - f1_score: 0.6651 - val_loss: 0.9274 - val_f1_score: 0.6810 - 6s/epoch - 17ms/step\n",
      "Epoch 11/30\n",
      "375/375 - 6s - loss: 0.2975 - f1_score: 0.6651 - val_loss: 0.9323 - val_f1_score: 0.6810 - 6s/epoch - 17ms/step\n",
      "Epoch 12/30\n",
      "375/375 - 6s - loss: 0.2794 - f1_score: 0.6651 - val_loss: 1.0220 - val_f1_score: 0.6810 - 6s/epoch - 16ms/step\n",
      "Epoch 13/30\n",
      "375/375 - 6s - loss: 0.2767 - f1_score: 0.6651 - val_loss: 1.0821 - val_f1_score: 0.6810 - 6s/epoch - 16ms/step\n",
      "Epoch 14/30\n",
      "375/375 - 6s - loss: 0.2678 - f1_score: 0.6651 - val_loss: 1.0818 - val_f1_score: 0.6812 - 6s/epoch - 16ms/step\n",
      "Epoch 15/30\n",
      "375/375 - 6s - loss: 0.2535 - f1_score: 0.6651 - val_loss: 1.0792 - val_f1_score: 0.6812 - 6s/epoch - 16ms/step\n",
      "Epoch 16/30\n",
      "375/375 - 6s - loss: 0.2473 - f1_score: 0.6651 - val_loss: 1.1047 - val_f1_score: 0.6812 - 6s/epoch - 16ms/step\n",
      "Epoch 17/30\n",
      "375/375 - 6s - loss: 0.2402 - f1_score: 0.6652 - val_loss: 1.1466 - val_f1_score: 0.6812 - 6s/epoch - 16ms/step\n",
      "Epoch 18/30\n",
      "375/375 - 6s - loss: 0.2326 - f1_score: 0.6651 - val_loss: 1.2302 - val_f1_score: 0.6812 - 6s/epoch - 16ms/step\n",
      "Epoch 19/30\n",
      "375/375 - 6s - loss: 0.2239 - f1_score: 0.6652 - val_loss: 1.2433 - val_f1_score: 0.6812 - 6s/epoch - 16ms/step\n",
      "Epoch 20/30\n",
      "375/375 - 6s - loss: 0.2192 - f1_score: 0.6653 - val_loss: 1.2556 - val_f1_score: 0.6813 - 6s/epoch - 16ms/step\n",
      "Epoch 21/30\n",
      "375/375 - 6s - loss: 0.2113 - f1_score: 0.6652 - val_loss: 1.3907 - val_f1_score: 0.6812 - 6s/epoch - 16ms/step\n",
      "Epoch 22/30\n",
      "375/375 - 6s - loss: 0.2056 - f1_score: 0.6653 - val_loss: 1.3481 - val_f1_score: 0.6813 - 6s/epoch - 16ms/step\n",
      "Epoch 23/30\n",
      "375/375 - 6s - loss: 0.2042 - f1_score: 0.6653 - val_loss: 1.3833 - val_f1_score: 0.6813 - 6s/epoch - 16ms/step\n",
      "Epoch 24/30\n",
      "375/375 - 6s - loss: 0.1941 - f1_score: 0.6653 - val_loss: 1.4530 - val_f1_score: 0.6813 - 6s/epoch - 16ms/step\n",
      "Epoch 25/30\n",
      "375/375 - 6s - loss: 0.1939 - f1_score: 0.6653 - val_loss: 1.5580 - val_f1_score: 0.6813 - 6s/epoch - 16ms/step\n",
      "Epoch 26/30\n",
      "375/375 - 6s - loss: 0.1942 - f1_score: 0.6654 - val_loss: 1.3820 - val_f1_score: 0.6813 - 6s/epoch - 16ms/step\n",
      "Epoch 27/30\n",
      "375/375 - 6s - loss: 0.1823 - f1_score: 0.6654 - val_loss: 1.6829 - val_f1_score: 0.6813 - 6s/epoch - 16ms/step\n",
      "Epoch 28/30\n",
      "375/375 - 6s - loss: 0.1795 - f1_score: 0.6655 - val_loss: 1.7425 - val_f1_score: 0.6813 - 6s/epoch - 16ms/step\n",
      "Epoch 29/30\n",
      "375/375 - 6s - loss: 0.1783 - f1_score: 0.6655 - val_loss: 1.8083 - val_f1_score: 0.6813 - 6s/epoch - 16ms/step\n",
      "Epoch 30/30\n",
      "375/375 - 6s - loss: 0.1652 - f1_score: 0.6656 - val_loss: 1.8066 - val_f1_score: 0.6813 - 6s/epoch - 16ms/step\n"
     ]
    }
   ],
   "source": [
    "num_epochs = 30\n",
    "history = model.fit(training_padded, training_labels, epochs=num_epochs, validation_data=(testing_padded, testing_labels), verbose=1)"
   ]
  },
  {
   "cell_type": "markdown",
   "metadata": {},
   "source": [
    "## Plot the f1-scores and loss for each epoch"
   ]
  },
  {
   "cell_type": "code",
   "execution_count": 514,
   "metadata": {},
   "outputs": [
    {
     "data": {
      "text/plain": [
       "dict_keys(['loss', 'f1_score', 'val_loss', 'val_f1_score'])"
      ]
     },
     "execution_count": 514,
     "metadata": {},
     "output_type": "execute_result"
    }
   ],
   "source": [
    "history.history.keys()"
   ]
  },
  {
   "cell_type": "code",
   "execution_count": 515,
   "metadata": {},
   "outputs": [
    {
     "data": {
      "image/png": "[encoded data removed]",
      "text/plain": [
       "<Figure size 432x288 with 1 Axes>"
      ]
     },
     "metadata": {
      "needs_background": "light"
     },
     "output_type": "display_data"
    },
    {
     "data": {
      "image/png": "[encoded data removed]",
      "text/plain": [
       "<Figure size 432x288 with 1 Axes>"
      ]
     },
     "metadata": {
      "needs_background": "light"
     },
     "output_type": "display_data"
    }
   ],
   "source": [
    "import matplotlib.pyplot as plt\n",
    "\n",
    "\n",
    "def plot_graphs(history, string):\n",
    "  plt.plot(history.history[string])\n",
    "  plt.plot(history.history['val_'+string])\n",
    "  plt.xlabel(\"Epochs\")\n",
    "  plt.ylabel(string)\n",
    "  plt.legend([string, 'val_'+string])\n",
    "  plt.show()\n",
    "  \n",
    "plot_graphs(history, \"f1_score\")\n",
    "plot_graphs(history, \"loss\")"
   ]
  },
  {
   "cell_type": "code",
   "execution_count": 516,
   "metadata": {},
   "outputs": [
    {
     "name": "stdout",
     "output_type": "stream",
     "text": [
      "you can sleep soundly if russell martin and a shovel are guarding your house or is it the other way around ? ? ? ? ? ? ? ? ? ? ? ? ? ? ? ? ? ? ? ? ? ? ? ? ? ? ? ? ? ? ? ? ? ? ? ? ? ? ? ? ? ? ? ? ? ? ? ? ? ? ? ? ? ? ? ? ? ? ? ? ? ? ? ? ? ? ? ? ? ? ? ? ? ? ? ? ? ? ? ? ? ? ? ? ? ? ? ? ? ? ? ? ? ? ? ? ? ? ?\n",
      "Who does an \"official promo\" in 360p?\n",
      "[0]\n"
     ]
    }
   ],
   "source": [
    "reverse_word_index = dict([(value, key) for (key, value) in word_index.items()])\n",
    "\n",
    "def decode_sentence(text):\n",
    "    return ' '.join([reverse_word_index.get(i, '?') for i in text])\n",
    "\n",
    "print(decode_sentence(training_padded[0]))\n",
    "print(training_sentences[2])\n",
    "print(training_labels[2])"
   ]
  },
  {
   "cell_type": "code",
   "execution_count": 517,
   "metadata": {},
   "outputs": [
    {
     "name": "stdout",
     "output_type": "stream",
     "text": [
      "(10000, 32)\n"
     ]
    }
   ],
   "source": [
    "e = model.layers[0]\n",
    "weights = e.get_weights()[0]\n",
    "print(weights.shape) # shape: (vocab_size, embedding_dim)"
   ]
  },
  {
   "cell_type": "markdown",
   "metadata": {},
   "source": [
    "## Predict few example sentences"
   ]
  },
  {
   "cell_type": "code",
   "execution_count": 518,
   "metadata": {},
   "outputs": [
    {
     "name": "stdout",
     "output_type": "stream",
     "text": [
      "1/1 [==============================] - 0s 15ms/step\n",
      "[[0.9998615 ]\n",
      " [0.04766525]]\n"
     ]
    }
   ],
   "source": [
    "sentence = [\"granny starting to fear spiders in the garden might be real\", \"game of thrones season finale showing this sunday night\"]\n",
    "sequences = tokenizer.texts_to_sequences(sentence)\n",
    "padded = pad_sequences(sequences, maxlen=max_length, padding=padding_type, truncating=trunc_type)\n",
    "print(model.predict(padded))"
   ]
  },
  {
   "cell_type": "markdown",
   "metadata": {},
   "source": [
    "## Conclusion\n",
    "\n",
    "By using basic text preprocessing, with the help of tensorflow tokenizer, we cleaned the documents. The processed text data is used to train a deep learning model having an embedding layer in the input.\n",
    "\n",
    "Obtained cross validation f1-score: 0.68"
   ]
  }
 ],
 "metadata": {
  "kernelspec": {
   "display_name": "Python 3.9.13 ('py39')",
   "language": "python",
   "name": "python3"
  },
  "language_info": {
   "codemirror_mode": {
    "name": "ipython",
    "version": 3
   },
   "file_extension": ".py",
   "mimetype": "text/x-python",
   "name": "python",
   "nbconvert_exporter": "python",
   "pygments_lexer": "ipython3",
   "version": "3.9.13"
  },
  "orig_nbformat": 4,
  "vscode": {
   "interpreter": {
    "hash": "9302fbafb00294c29d2937316b25adce26b710ddf49158c03fd308a9416ea980"
   }
  }
 },
 "nbformat": 4,
 "nbformat_minor": 2
}
